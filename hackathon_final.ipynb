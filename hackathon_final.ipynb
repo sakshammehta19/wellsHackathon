{
 "cells": [
  {
   "cell_type": "code",
   "execution_count": 13,
   "metadata": {},
   "outputs": [],
   "source": [
    "#speech_recognition\n",
    "import speech_recognition as s_r\n",
    "from vaderSentiment.vaderSentiment import SentimentIntensityAnalyzer\n",
    "import yake\n",
    "\n",
    "def SpeechRecognition():\n",
    "    print(s_r.__version__) # just to print the version not required\n",
    "    r = s_r.Recognizer()\n",
    "    my_mic = s_r.Microphone(device_index=1) #my device index is 1, you have to put your device index\n",
    "    with my_mic as source:\n",
    "        print(\"You have reached out to Wells Fargo support centre. Please go ahead and record your message!!!!\")\n",
    "        r.adjust_for_ambient_noise(source) #reduce noise\n",
    "        audio = r.listen(source) #take voice input from the microphone\n",
    "    text = r.recognize_google(audio)\n",
    "    return text\n",
    "    "
   ]
  },
  {
   "cell_type": "code",
   "execution_count": 14,
   "metadata": {},
   "outputs": [],
   "source": [
    "def SentimentAnalysis(text):\n",
    "    sentiment =\"\"\n",
    "    Sentence=[str(text)]\n",
    "    analyser=SentimentIntensityAnalyzer()\n",
    "    for i in Sentence:\n",
    "        v=analyser.polarity_scores(i)\n",
    "        #print(v['compound'])\n",
    "        if v['compound'] < -0.05:\n",
    "            sentiment = \"Negative\"\n",
    "        elif v['compound'] > 0.05:\n",
    "            sentiment = \"Positive\"\n",
    "        else:\n",
    "            sentiment =\"Neutral\"\n",
    "    return sentiment"
   ]
  },
  {
   "cell_type": "code",
   "execution_count": 15,
   "metadata": {},
   "outputs": [],
   "source": [
    "def KeyWordsExtractor(text):    \n",
    "    kw_extractor = yake.KeywordExtractor()\n",
    "    keywords = kw_extractor.extract_keywords(text)\n",
    "    ke_list = []\n",
    "    for kw in keywords:\n",
    "      ke_list.append(kw[0])\n",
    "\n",
    "    return ke_list"
   ]
  },
  {
   "cell_type": "code",
   "execution_count": 16,
   "metadata": {},
   "outputs": [],
   "source": [
    "def UseCaseAssignment(text):\n",
    "    ke_list = KeyWordsExtractor(text)\n",
    "    use_case = \"\"\n",
    "    \n",
    "    usecase_1 = [\"lost\",\"stolen\",\"steal\",\"recovery\",\"fraud\",\"unable\",\"block\",\"not being able\"] \n",
    "    usecase_2 = [\"buy\",\"purchase\",\"issue\",\"apply\",\"new\",\"card\",\"loan\",\"insurance\",\"request\"]\n",
    "    usecase_3 = [\"information\",\"policy\",\"question\",\"know\",\"consult\"]\n",
    "    usecase_4 = [\"raising\",\"limit\",\"account\",\"raise\"]\n",
    "\n",
    "    if any(word in ke_list for word in usecase_1):   \n",
    "        use_case = \"use_case1\"\n",
    "    elif any(word in ke_list for word in usecase_2):\n",
    "        use_case = \"use_case2\"\n",
    "    elif any(word in ke_list for word in usecase_3):\n",
    "        use_case = \"use_case3\"\n",
    "    elif any(word in ke_list for word in usecase_4):\n",
    "        use_case = \"use_case4\"\n",
    "    else:\n",
    "        print(\"Please be more clear with the issue\")\n",
    "        use_case = \"None\"\n",
    "    print(use_case)\n",
    "    return use_case"
   ]
  },
  {
   "cell_type": "code",
   "execution_count": 47,
   "metadata": {},
   "outputs": [
    {
     "name": "stdout",
     "output_type": "stream",
     "text": [
      "3.8.1\n",
      "You have reached out to Wells Fargo support centre. Please go ahead and record your message!!!!\n",
      "I am unable to cancel my subscriptions my online banking\n",
      "Negative\n",
      "use_case1\n",
      "Issue has been assigned to use_case1\n"
     ]
    }
   ],
   "source": [
    "text = \"\"\n",
    "sentiment = \"\"\n",
    "text = SpeechRecognition()\n",
    "print(text) #to print voice into text\n",
    "sentiment = SentimentAnalysis(text)\n",
    "print(sentiment)\n",
    "use_case = UseCaseAssignment(text)\n",
    "\n",
    "  \n",
    "\n",
    "\n",
    "print(\"Issue has been assigned to \"+use_case)\n",
    "    "
   ]
  },
  {
   "cell_type": "code",
   "execution_count": null,
   "metadata": {},
   "outputs": [],
   "source": []
  }
 ],
 "metadata": {
  "kernelspec": {
   "display_name": "Python 3",
   "language": "python",
   "name": "python3"
  },
  "language_info": {
   "codemirror_mode": {
    "name": "ipython",
    "version": 3
   },
   "file_extension": ".py",
   "mimetype": "text/x-python",
   "name": "python",
   "nbconvert_exporter": "python",
   "pygments_lexer": "ipython3",
   "version": "3.8.5"
  }
 },
 "nbformat": 4,
 "nbformat_minor": 4
}
